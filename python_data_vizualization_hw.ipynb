{
 "cells": [
  {
   "cell_type": "markdown",
   "metadata": {},
   "source": [
    "# Визуализация данных в python"
   ]
  },
  {
   "cell_type": "markdown",
   "metadata": {},
   "source": [
    "# Домашнее задание"
   ]
  },
  {
   "cell_type": "code",
   "execution_count": 14,
   "metadata": {
    "collapsed": false
   },
   "outputs": [],
   "source": [
    "import matplotlib\n",
    "from matplotlib import pyplot as plt\n",
    "matplotlib.pyplot.style.use('ggplot')"
   ]
  },
  {
   "cell_type": "code",
   "execution_count": 2,
   "metadata": {
    "collapsed": true
   },
   "outputs": [],
   "source": [
    "%matplotlib inline"
   ]
  },
  {
   "cell_type": "markdown",
   "metadata": {},
   "source": [
    "# Базовый уровень"
   ]
  },
  {
   "cell_type": "markdown",
   "metadata": {},
   "source": [
    " Для получения положительной оценки нужно выполнить все задания."
   ]
  },
  {
   "cell_type": "markdown",
   "metadata": {},
   "source": [
    "## Задание 1.1"
   ]
  },
  {
   "cell_type": "markdown",
   "metadata": {},
   "source": [
    "Сгенерирйуте данные: рассчитайте значения функции $y = x^3$ на отрезке от -10 до 10 с шагом 1. Постройте график функции. Убедитесь, что по оси X значения изменяются в диапазоне [-10, 10]."
   ]
  },
  {
   "cell_type": "code",
   "execution_count": null,
   "metadata": {
    "collapsed": false
   },
   "outputs": [],
   "source": []
  },
  {
   "cell_type": "markdown",
   "metadata": {},
   "source": [
    "## Задание 1.2"
   ]
  },
  {
   "cell_type": "markdown",
   "metadata": {},
   "source": [
    "Перестройте полученный в предыдущем задании график, добавив название графика (title) и подписи к осям X (xlabel) и Y (ylabel). Чтобы избежать проблем с текстом на русском языке, используйте строки в формате unicode (u'текст') и шрифт 'verdana'."
   ]
  },
  {
   "cell_type": "code",
   "execution_count": null,
   "metadata": {
    "collapsed": false
   },
   "outputs": [],
   "source": []
  },
  {
   "cell_type": "markdown",
   "metadata": {},
   "source": [
    "## Задание 1.3"
   ]
  },
  {
   "cell_type": "markdown",
   "metadata": {},
   "source": [
    "Перестройте полученный в предыдущем задании график, добавив легенду в левом верхнем углу. В легенде укажите формулой вид построенной функуции."
   ]
  },
  {
   "cell_type": "code",
   "execution_count": null,
   "metadata": {
    "collapsed": false
   },
   "outputs": [],
   "source": []
  },
  {
   "cell_type": "markdown",
   "metadata": {},
   "source": [
    "## Задание 1.4"
   ]
  },
  {
   "cell_type": "markdown",
   "metadata": {},
   "source": [
    "Отметьте на графике, полученном на предыдущем шаге, точкой место, где значение функции равняется нулю. Укажите на это место стрелкой на графике и сделайте текстовый комментарий \"точка (0,0)\"."
   ]
  },
  {
   "cell_type": "code",
   "execution_count": null,
   "metadata": {
    "collapsed": false
   },
   "outputs": [],
   "source": []
  },
  {
   "cell_type": "markdown",
   "metadata": {},
   "source": [
    "# Сложный уровень"
   ]
  },
  {
   "cell_type": "markdown",
   "metadata": {},
   "source": [
    "Для получения положительной оценки нужно выполнить все задания"
   ]
  },
  {
   "cell_type": "markdown",
   "metadata": {},
   "source": [
    "## Задание 2.1"
   ]
  },
  {
   "cell_type": "markdown",
   "metadata": {},
   "source": [
    "1) Сгенерирйуте данные: рассчитайте значения функций $y = x^3$ и $y = 2*x^3$ на отрезке от -10 до 10 с шагом 1. \n",
    "\n",
    "2)Постройте графики функции на одном полотне и добавьте легену, указав формулой вид построенных функций. Залейте область между двумя функциями цветом, используя при заливке интенсивность цвета 0.5. Убедитесь, что по оси X значения изменяются в диапазоне [-10, 10]."
   ]
  },
  {
   "cell_type": "code",
   "execution_count": null,
   "metadata": {
    "collapsed": true
   },
   "outputs": [],
   "source": []
  },
  {
   "cell_type": "code",
   "execution_count": null,
   "metadata": {
    "collapsed": false
   },
   "outputs": [],
   "source": []
  },
  {
   "cell_type": "markdown",
   "metadata": {},
   "source": [
    "## Задание 2.2"
   ]
  },
  {
   "cell_type": "markdown",
   "metadata": {},
   "source": [
    "1) Сгенерирйуте данные: рассчитайте значения функций $y = x^2$ и $y = 2*x^2$ на отрезке от -10 до 10 с шагом 1. \n",
    "\n",
    "2) Сгенерирйуте данные: рассчитайте значения функций $y = x^3$ и $y = 2*x^3$ на отрезке от -10 до 10 с шагом 1. \n",
    "\n",
    "3) Постройте изображение, состоящее из двух изображений, расположенных рядом горизонтально (используйте plt.subplot). \n",
    "На первом изображении постройте графики функции из пункта 1) и добавьте легену, указав формулой вид построенных функций. Залейте область между двумя функциями цветом, используя при заливке интенсивность цвета 0.5. \n",
    "На втором изображении постройте графики функции из пункта 2) и добавьте легену, указав формулой вид построенных функций. Залейте область между двумя функциями цветом, используя при заливке интенсивность цвета 0.5. "
   ]
  },
  {
   "cell_type": "code",
   "execution_count": null,
   "metadata": {
    "collapsed": true
   },
   "outputs": [],
   "source": []
  },
  {
   "cell_type": "code",
   "execution_count": null,
   "metadata": {
    "collapsed": false
   },
   "outputs": [],
   "source": []
  },
  {
   "cell_type": "markdown",
   "metadata": {},
   "source": [
    "# Продвинутый уровень"
   ]
  },
  {
   "cell_type": "markdown",
   "metadata": {},
   "source": [
    "Для получения подожительной оценки необходимо выполнить 3 задания из 4."
   ]
  },
  {
   "cell_type": "code",
   "execution_count": 74,
   "metadata": {
    "collapsed": true
   },
   "outputs": [],
   "source": [
    "import pandas as pd\n",
    "from sklearn import datasets"
   ]
  },
  {
   "cell_type": "markdown",
   "metadata": {},
   "source": [
    "## Задание 3.1"
   ]
  },
  {
   "cell_type": "markdown",
   "metadata": {},
   "source": [
    "1) Загрузите набор данных \"Breast Cancer Wisconsin (Diagnostic) Database\" с помщью модуля datasets из библиотеки sklearn. Изпользуйте метод load_breast_cancer()\n",
    "\n",
    "2) Выведите на экран и ознокомьтесь с описанием этого набора данных"
   ]
  },
  {
   "cell_type": "code",
   "execution_count": null,
   "metadata": {
    "collapsed": true
   },
   "outputs": [],
   "source": []
  },
  {
   "cell_type": "code",
   "execution_count": null,
   "metadata": {
    "collapsed": false,
    "scrolled": true
   },
   "outputs": [],
   "source": []
  },
  {
   "cell_type": "markdown",
   "metadata": {},
   "source": [
    "## Задание 3.2"
   ]
  },
  {
   "cell_type": "markdown",
   "metadata": {},
   "source": [
    "1) Сгенерируйте dataFrame на основе набора данных \"Breast Cancer\", загруженного на предыдущем шаге. \n",
    "Для этого в качестве столбцов при создании dataFrame используйте данные load_breast_cancer().data, а в качестве названий столбцов - названия из load_breast_cancer().feature_names. Также добавьте в получившийся dadaFrame столбец \"tagrget\", заполнив его данными из load_breast_cancer().target\n",
    "\n",
    "2) Выведите на экран первые несколько строк получившегося dataFrame"
   ]
  },
  {
   "cell_type": "code",
   "execution_count": null,
   "metadata": {
    "collapsed": false
   },
   "outputs": [],
   "source": []
  },
  {
   "cell_type": "code",
   "execution_count": null,
   "metadata": {
    "collapsed": false
   },
   "outputs": [],
   "source": []
  },
  {
   "cell_type": "markdown",
   "metadata": {},
   "source": [
    "## Задание 3.3"
   ]
  },
  {
   "cell_type": "markdown",
   "metadata": {},
   "source": [
    "Постройте круговую диаграмму по данным data_frame.target, чтобы понять в каком соотношении находятся классы. Сделайте подписи названий сегментов, укажите на диграмме размеры каждого сегмента в процентах."
   ]
  },
  {
   "cell_type": "code",
   "execution_count": null,
   "metadata": {
    "collapsed": false
   },
   "outputs": [],
   "source": []
  },
  {
   "cell_type": "markdown",
   "metadata": {},
   "source": [
    "## Задание 3.4"
   ]
  },
  {
   "cell_type": "markdown",
   "metadata": {},
   "source": [
    "Давайте посмотрим, насколько сильно различаются между собой объекты классов Malignan и Benign по паре признаков 'mean radius' и 'mean texture', а также по паре признаков 'mean perimeter' и 'mean area'. Для этого нужно изобразить объекты этих классов разными цветами в координатах соответсвующих пар признаков (для работы с цевтом подойдет ListedColormap)  и проанализировать полученные изображения. \n",
    "\n",
    "На одном полотне отобразите объекты в координатах 'mean radius' и 'mean texture', а на другом - в координатах 'mean perimeter' и 'mean area'. Расположите оба полотна на одном изображении горизонтально (используйте plt.subplot). Как вы считаете, сложно ли будет отличить объекты друг от другах по рассматриваемым парам признаков?"
   ]
  },
  {
   "cell_type": "code",
   "execution_count": 1,
   "metadata": {
    "collapsed": true
   },
   "outputs": [],
   "source": [
    "from matplotlib.colors import ListedColormap"
   ]
  },
  {
   "cell_type": "code",
   "execution_count": 2,
   "metadata": {
    "collapsed": true
   },
   "outputs": [],
   "source": [
    "colors = ListedColormap(['yellow', 'violet'])"
   ]
  },
  {
   "cell_type": "code",
   "execution_count": null,
   "metadata": {
    "collapsed": false
   },
   "outputs": [],
   "source": []
  }
 ],
 "metadata": {
  "kernelspec": {
   "display_name": "Python 2",
   "language": "python",
   "name": "python2"
  },
  "language_info": {
   "codemirror_mode": {
    "name": "ipython",
    "version": 2
   },
   "file_extension": ".py",
   "mimetype": "text/x-python",
   "name": "python",
   "nbconvert_exporter": "python",
   "pygments_lexer": "ipython2",
   "version": "2.7.11"
  }
 },
 "nbformat": 4,
 "nbformat_minor": 0
}
